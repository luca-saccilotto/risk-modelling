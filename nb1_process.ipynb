{
 "cells": [
  {
   "cell_type": "markdown",
   "metadata": {},
   "source": [
    "## **Libraries**"
   ]
  },
  {
   "cell_type": "code",
   "execution_count": null,
   "metadata": {},
   "outputs": [],
   "source": [
    "# Import libraries\n",
    "import numpy as np\n",
    "import os\n",
    "import pandas as pd"
   ]
  },
  {
   "cell_type": "markdown",
   "metadata": {},
   "source": [
    "## **Data**"
   ]
  },
  {
   "cell_type": "code",
   "execution_count": null,
   "metadata": {},
   "outputs": [],
   "source": [
    "# Load raw data and make a copy\n",
    "loan_data_backup = pd.read_csv(os.path.join(\"..\", \"data\", \"raw\", \"loan_data_0714.csv\"))\n",
    "loan_data = loan_data_backup.copy()\n",
    "loan_data.head()"
   ]
  },
  {
   "cell_type": "code",
   "execution_count": null,
   "metadata": {},
   "outputs": [],
   "source": [
    "# Display all column names\n",
    "loan_data.columns.values"
   ]
  },
  {
   "cell_type": "code",
   "execution_count": null,
   "metadata": {},
   "outputs": [],
   "source": [
    "# Display column names along with cases and datatype per column\n",
    "loan_data.info()"
   ]
  },
  {
   "cell_type": "markdown",
   "metadata": {},
   "source": [
    "### **Continuous Variables**"
   ]
  },
  {
   "cell_type": "code",
   "execution_count": null,
   "metadata": {},
   "outputs": [],
   "source": [
    "# Display unique values of a column\n",
    "loan_data[\"emp_length\"].unique()"
   ]
  },
  {
   "cell_type": "code",
   "execution_count": null,
   "metadata": {},
   "outputs": [],
   "source": [
    "# Process the variables related to employment length and store it in a new variable\n",
    "loan_data[\"emp_lng_int\"] = loan_data[\"emp_length\"].str.replace(\"+ years\", \"\")\n",
    "loan_data[\"emp_lng_int\"] = loan_data[\"emp_lng_int\"].str.replace(\"< 1 year\", str(0))\n",
    "loan_data[\"emp_lng_int\"] = loan_data[\"emp_lng_int\"].str.replace(\"n/a\", str(0))\n",
    "loan_data[\"emp_lng_int\"] = loan_data[\"emp_lng_int\"].str.replace(\" years\", \"\")\n",
    "loan_data[\"emp_lng_int\"] = loan_data[\"emp_lng_int\"].str.replace(\" year\", \"\")"
   ]
  },
  {
   "cell_type": "code",
   "execution_count": null,
   "metadata": {},
   "outputs": [],
   "source": [
    "# Check the datatype of a single element of a column\n",
    "type(loan_data[\"emp_lng_int\"][0])"
   ]
  },
  {
   "cell_type": "code",
   "execution_count": null,
   "metadata": {},
   "outputs": [],
   "source": [
    "# Transform the values to numeric\n",
    "loan_data[\"emp_lng_int\"] = pd.to_numeric(loan_data[\"emp_lng_int\"])\n",
    "type(loan_data[\"emp_lng_int\"][0])"
   ]
  },
  {
   "cell_type": "code",
   "execution_count": null,
   "metadata": {},
   "outputs": [],
   "source": [
    "# Display a specific column\n",
    "loan_data[\"earliest_cr_line\"]"
   ]
  },
  {
   "cell_type": "code",
   "execution_count": null,
   "metadata": {},
   "outputs": [],
   "source": [
    "# Extract the date and the time from a string variable\n",
    "loan_data[\"cr_line_date\"] = pd.to_datetime(loan_data[\"earliest_cr_line\"], format = \"%b-%y\")\n",
    "type(loan_data[\"cr_line_date\"][0])"
   ]
  },
  {
   "cell_type": "code",
   "execution_count": null,
   "metadata": {},
   "outputs": [],
   "source": [
    "# Create a new column to compute the number of months since the earliest credit line date\n",
    "loan_data[\"months_cr_line\"] = round(pd.to_numeric((pd.to_datetime(\"2017-12-01\") - loan_data[\"cr_line_date\"]) / np.timedelta64(1, \"M\")))\n",
    "loan_data[\"months_cr_line\"].describe()"
   ]
  },
  {
   "cell_type": "code",
   "execution_count": null,
   "metadata": {},
   "outputs": [],
   "source": [
    "# Set the rows that had negative differences to the maximum value\n",
    "loan_data[\"months_cr_line\"][loan_data[\"months_cr_line\"] < 0] = loan_data[\"months_cr_line\"].max()\n",
    "min(loan_data[\"months_cr_line\"])"
   ]
  },
  {
   "cell_type": "code",
   "execution_count": null,
   "metadata": {},
   "outputs": [],
   "source": [
    "# Show some descriptive statistics for the values of a column\n",
    "loan_data[\"term\"].describe()"
   ]
  },
  {
   "cell_type": "code",
   "execution_count": null,
   "metadata": {},
   "outputs": [],
   "source": [
    "# Check the datatype of a single element of a column\n",
    "type(loan_data[\"term\"][25])"
   ]
  },
  {
   "cell_type": "code",
   "execution_count": null,
   "metadata": {},
   "outputs": [],
   "source": [
    "# Replace a string with an empty string and turn the result to numeric\n",
    "loan_data[\"term_int\"] = pd.to_numeric(loan_data[\"term\"].str.replace(\" months\", \"\"))\n",
    "loan_data[\"term_int\"]"
   ]
  },
  {
   "cell_type": "code",
   "execution_count": null,
   "metadata": {},
   "outputs": [],
   "source": [
    "# Extract the date and the time from a string variable that is in a given format\n",
    "loan_data[\"issue_d_date\"] = pd.to_datetime(loan_data[\"issue_d\"], format = \"%b-%y\")"
   ]
  },
  {
   "cell_type": "code",
   "execution_count": null,
   "metadata": {},
   "outputs": [],
   "source": [
    "# Calculate the difference between two dates in months and turn it to numeric datatype\n",
    "loan_data[\"mths_issue_d\"] = round(pd.to_numeric((pd.to_datetime(\"2017-12-01\") - loan_data[\"issue_d_date\"]) / np.timedelta64(1, \"M\")))"
   ]
  },
  {
   "cell_type": "code",
   "execution_count": null,
   "metadata": {},
   "outputs": [],
   "source": [
    "# Show some descriptive statistics for the values of a column\n",
    "loan_data[\"mths_issue_d\"].describe()"
   ]
  },
  {
   "cell_type": "markdown",
   "metadata": {},
   "source": [
    "### **Discrete Variables**"
   ]
  },
  {
   "cell_type": "code",
   "execution_count": null,
   "metadata": {},
   "outputs": [],
   "source": [
    "# Create dummy variables from all eight original independent variables and save them into a list\n",
    "loan_dummies  =  [pd.get_dummies(loan_data[\"grade\"], prefix = \"grade\", prefix_sep = \":\"),\n",
    "                pd.get_dummies(loan_data[\"sub_grade\"], prefix = \"sub_grade\", prefix_sep = \":\"),\n",
    "                pd.get_dummies(loan_data[\"home_ownership\"], prefix = \"home_ownership\", prefix_sep = \":\"),\n",
    "                pd.get_dummies(loan_data[\"verification_status\"], prefix = \"verification_status\", prefix_sep = \":\"),\n",
    "                pd.get_dummies(loan_data[\"loan_status\"], prefix = \"loan_status\", prefix_sep = \":\"),\n",
    "                pd.get_dummies(loan_data[\"purpose\"], prefix = \"purpose\", prefix_sep = \":\"),\n",
    "                pd.get_dummies(loan_data[\"addr_state\"], prefix = \"addr_state\", prefix_sep = \":\"),\n",
    "                pd.get_dummies(loan_data[\"initial_list_status\"], prefix = \"initial_list_status\", prefix_sep = \":\")]"
   ]
  },
  {
   "cell_type": "code",
   "execution_count": null,
   "metadata": {},
   "outputs": [],
   "source": [
    "# Concatenate the dummy variables to turn them into a data frame\n",
    "loan_dummies = pd.concat(loan_dummies, axis = 1)\n",
    "type(loan_data)"
   ]
  },
  {
   "cell_type": "code",
   "execution_count": null,
   "metadata": {},
   "outputs": [],
   "source": [
    "# Concatenate the data frame with original data with the data frame with dummy variables\n",
    "loan_data = pd.concat([loan_data, loan_dummies], axis = 1)\n",
    "loan_data.columns.values"
   ]
  },
  {
   "cell_type": "markdown",
   "metadata": {},
   "source": [
    "### **Missing Values**"
   ]
  },
  {
   "cell_type": "code",
   "execution_count": null,
   "metadata": {},
   "outputs": [],
   "source": [
    "# Check the number of missing values in the dataframe\n",
    "pd.options.display.max_rows = None\n",
    "loan_data.isnull().sum()"
   ]
  },
  {
   "cell_type": "code",
   "execution_count": null,
   "metadata": {},
   "outputs": [],
   "source": [
    "# Fill the missing values in the variable related to the total revolving high credit limit\n",
    "loan_data[\"total_rev_hi_lim\"].fillna(loan_data[\"funded_amnt\"], inplace = True)\n",
    "loan_data[\"total_rev_hi_lim\"].isnull().sum()"
   ]
  },
  {
   "cell_type": "code",
   "execution_count": null,
   "metadata": {},
   "outputs": [],
   "source": [
    "# Fill the missing values with the mean value of the non-missing values\n",
    "loan_data[\"annual_inc\"].fillna(loan_data[\"annual_inc\"].mean(), inplace = True)\n",
    "loan_data[\"annual_inc\"].isnull().sum()"
   ]
  },
  {
   "cell_type": "code",
   "execution_count": null,
   "metadata": {},
   "outputs": [],
   "source": [
    "# Fill the missing values with zeroes\n",
    "loan_data[\"months_cr_line\"].fillna(0, inplace = True)\n",
    "loan_data[\"acc_now_delinq\"].fillna(0, inplace = True)\n",
    "loan_data[\"total_acc\"].fillna(0, inplace = True)\n",
    "loan_data[\"pub_rec\"].fillna(0, inplace = True)\n",
    "loan_data[\"open_acc\"].fillna(0, inplace = True)\n",
    "loan_data[\"inq_last_6mths\"].fillna(0, inplace = True)\n",
    "loan_data[\"delinq_2yrs\"].fillna(0, inplace = True)\n",
    "loan_data[\"emp_lng_int\"].fillna(0, inplace = True)"
   ]
  },
  {
   "cell_type": "markdown",
   "metadata": {},
   "source": [
    "### **Saving**"
   ]
  },
  {
   "cell_type": "code",
   "execution_count": null,
   "metadata": {},
   "outputs": [],
   "source": [
    "# Save processed data for modelling\n",
    "loan_data.to_csv(os.path.join(\"..\", \"data\", \"processed\", \"loan_data_0714.csv\"), index = False)"
   ]
  }
 ],
 "metadata": {
  "kernelspec": {
   "display_name": "credit-risk",
   "language": "python",
   "name": "python3"
  },
  "language_info": {
   "codemirror_mode": {
    "name": "ipython",
    "version": 3
   },
   "file_extension": ".py",
   "mimetype": "text/x-python",
   "name": "python",
   "nbconvert_exporter": "python",
   "pygments_lexer": "ipython3",
   "version": "3.11.5"
  },
  "orig_nbformat": 4
 },
 "nbformat": 4,
 "nbformat_minor": 2
}
